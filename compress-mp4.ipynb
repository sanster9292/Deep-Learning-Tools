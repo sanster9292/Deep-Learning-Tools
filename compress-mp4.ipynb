{
 "cells": [
  {
   "cell_type": "markdown",
   "metadata": {},
   "source": [
    "# Compressing mp4 videos for storage. \n",
    "\n",
    "### Here, I will be creating a simple compressor, to reduce the size of mp4 videos in about half using the python library [ffmpy](https://pypi.org/project/ffmpy/) which is a wrapper around the command line [FFmpeg](http://ffmpeg.org/). \n",
    "\n",
    "I am using this tool to do compression of one file to another, but you can use it to convert one file format to another\n"
   ]
  },
  {
   "cell_type": "code",
   "execution_count": 2,
   "metadata": {},
   "outputs": [],
   "source": [
    "import ffmpy\n",
    "import os\n",
    "import glob\n"
   ]
  },
  {
   "cell_type": "markdown",
   "metadata": {},
   "source": [
    "### Set the variables for the directory where the videos are located to where you want to save them"
   ]
  },
  {
   "cell_type": "code",
   "execution_count": 52,
   "metadata": {},
   "outputs": [],
   "source": [
    "main_dir  = 'PATH_TO_VIDEO_DIRECTORY'\n",
    "save_dir = 'PATH_TO_SAVE_DIRECTORY'"
   ]
  },
  {
   "cell_type": "code",
   "execution_count": 53,
   "metadata": {},
   "outputs": [],
   "source": [
    "## Get the names of the files that are in the directory.\n",
    "file_names = glob.glob('%s*.mp4'% main_dir )"
   ]
  },
  {
   "cell_type": "code",
   "execution_count": 11,
   "metadata": {},
   "outputs": [
    {
     "data": {
      "text/plain": [
       "['/Users/sanwalyousaf/Downloads/Videos/20200505_121311.mp4',\n",
       " '/Users/sanwalyousaf/Downloads/Videos/20200505_120353.mp4',\n",
       " '/Users/sanwalyousaf/Downloads/Videos/20200505_121458.mp4',\n",
       " '/Users/sanwalyousaf/Downloads/Videos/20200505_115201.mp4',\n",
       " '/Users/sanwalyousaf/Downloads/Videos/20200505_120456.mp4',\n",
       " '/Users/sanwalyousaf/Downloads/Videos/20200505_114903.mp4',\n",
       " '/Users/sanwalyousaf/Downloads/Videos/20200505_121638.mp4',\n",
       " '/Users/sanwalyousaf/Downloads/Videos/20200505_120519.mp4',\n",
       " '/Users/sanwalyousaf/Downloads/Videos/20200505_115004.mp4',\n",
       " '/Users/sanwalyousaf/Downloads/Videos/20200505_121014.mp4',\n",
       " '/Users/sanwalyousaf/Downloads/Videos/20200505_114937.mp4',\n",
       " '/Users/sanwalyousaf/Downloads/Videos/20200505_121037.mp4',\n",
       " '/Users/sanwalyousaf/Downloads/Videos/20200505_114852.mp4',\n",
       " '/Users/sanwalyousaf/Downloads/Videos/20200505_120539.mp4',\n",
       " '/Users/sanwalyousaf/Downloads/Videos/20200505_120748.mp4',\n",
       " '/Users/sanwalyousaf/Downloads/Videos/20200505_115130.mp4',\n",
       " '/Users/sanwalyousaf/Downloads/Videos/20200505_120411.mp4',\n",
       " '/Users/sanwalyousaf/Downloads/Videos/20200505_120758.mp4',\n",
       " '/Users/sanwalyousaf/Downloads/Videos/20200505_115046.mp4']"
      ]
     },
     "execution_count": 11,
     "metadata": {},
     "output_type": "execute_result"
    }
   ],
   "source": [
    "file_names"
   ]
  },
  {
   "cell_type": "markdown",
   "metadata": {},
   "source": [
    "### The code below is supposed to check how the names of the videos currenly are and what they would look like after compression.  I have added the word '_compressed' at the  end of the converted videos"
   ]
  },
  {
   "cell_type": "code",
   "execution_count": 27,
   "metadata": {},
   "outputs": [
    {
     "name": "stdout",
     "output_type": "stream",
     "text": [
      "Input name:  20200505_121311\n",
      "Output name:  20200505_121311_compressed \n",
      "\n",
      "Input name:  20200505_120353\n",
      "Output name:  20200505_120353_compressed \n",
      "\n",
      "Input name:  20200505_121458\n",
      "Output name:  20200505_121458_compressed \n",
      "\n",
      "Input name:  20200505_115201\n",
      "Output name:  20200505_115201_compressed \n",
      "\n",
      "Input name:  20200505_120456\n",
      "Output name:  20200505_120456_compressed \n",
      "\n",
      "Input name:  20200505_114903\n",
      "Output name:  20200505_114903_compressed \n",
      "\n",
      "Input name:  20200505_121638\n",
      "Output name:  20200505_121638_compressed \n",
      "\n",
      "Input name:  20200505_120519\n",
      "Output name:  20200505_120519_compressed \n",
      "\n",
      "Input name:  20200505_115004\n",
      "Output name:  20200505_115004_compressed \n",
      "\n",
      "Input name:  20200505_121014\n",
      "Output name:  20200505_121014_compressed \n",
      "\n",
      "Input name:  20200505_114937\n",
      "Output name:  20200505_114937_compressed \n",
      "\n",
      "Input name:  20200505_121037\n",
      "Output name:  20200505_121037_compressed \n",
      "\n",
      "Input name:  20200505_114852\n",
      "Output name:  20200505_114852_compressed \n",
      "\n",
      "Input name:  20200505_120539\n",
      "Output name:  20200505_120539_compressed \n",
      "\n",
      "Input name:  20200505_120748\n",
      "Output name:  20200505_120748_compressed \n",
      "\n",
      "Input name:  20200505_115130\n",
      "Output name:  20200505_115130_compressed \n",
      "\n",
      "Input name:  20200505_120411\n",
      "Output name:  20200505_120411_compressed \n",
      "\n",
      "Input name:  20200505_120758\n",
      "Output name:  20200505_120758_compressed \n",
      "\n",
      "Input name:  20200505_115046\n",
      "Output name:  20200505_115046_compressed \n",
      "\n"
     ]
    }
   ],
   "source": [
    "files = {}\n",
    "for f in file_names: \n",
    "    if not f.startswith('.'):\n",
    "    #     print(\"Input file = %s\" %f)\n",
    "        input_name = f.split('/')[-1].split('.')[0]\n",
    "        print('Input name: ', input_name )\n",
    "        output_name = input_name + '_compressed'\n",
    "        print('Output name: ',output_name,'\\n')\n",
    "        \n",
    "        if output_name != \"\":\n",
    "            files[f] = output_name\n",
    "        else: \n",
    "            continue\n"
   ]
  },
  {
   "cell_type": "markdown",
   "metadata": {},
   "source": [
    "### In the following code, I am \n",
    "\n",
    "* Creating the name of the file to be saved by slicing the original name and adding _compressed.mp4 to the end of that name\n",
    "\n",
    "\n",
    "* In output_params,I construct the command which is going in to ffmpy which looks something looks like this\n",
    "        ffmpeg -i input.mp4 -vcodec libx264 -crf 20 output.mp4\n",
    "        \n",
    " Notice the format of this instruction. The -i clause that proceeds ffmpeg specifies the name of the input             file. After the input file name, the command specifies output options. In this case, the output options               specify the video codec to use and the constant rate factor, or CRF, to use to compress the video file. The           CRF, which, in this case, is 20, can range from 18 to 24, where a higher number will compress the output to           a smaller size. The last part of the instruction is the name of the resulting compressed file. \n",
    "       \n",
    "          [Taken from this great tutorial](http://www.lewisu.edu/experts/wordpress/index.php/compressing-mp4-files-listing-directory-contents-and-copying-files-to-a-remote-server-in-python/)\n",
    "          "
   ]
  },
  {
   "cell_type": "code",
   "execution_count": 51,
   "metadata": {},
   "outputs": [
    {
     "name": "stdout",
     "output_type": "stream",
     "text": [
      "ffmpeg -i /Users/sanwalyousaf/Downloads/Videos/20200505_121311.mp4 -vcodec libx264 -crf 24 /Users/sanwalyousaf/Desktop/Clarifai_pics_models/videos/Hackday_compressed/20200505_121311_compressed.mp4\n",
      "Done compressing /Users/sanwalyousaf/Downloads/Videos/20200505_121311.mp4\n",
      "\n",
      "\n",
      "ffmpeg -i /Users/sanwalyousaf/Downloads/Videos/20200505_120353.mp4 -vcodec libx264 -crf 24 /Users/sanwalyousaf/Desktop/Clarifai_pics_models/videos/Hackday_compressed/20200505_120353_compressed.mp4\n",
      "Done compressing /Users/sanwalyousaf/Downloads/Videos/20200505_120353.mp4\n",
      "\n",
      "\n",
      "ffmpeg -i /Users/sanwalyousaf/Downloads/Videos/20200505_121458.mp4 -vcodec libx264 -crf 24 /Users/sanwalyousaf/Desktop/Clarifai_pics_models/videos/Hackday_compressed/20200505_121458_compressed.mp4\n",
      "Done compressing /Users/sanwalyousaf/Downloads/Videos/20200505_121458.mp4\n",
      "\n",
      "\n",
      "ffmpeg -i /Users/sanwalyousaf/Downloads/Videos/20200505_115201.mp4 -vcodec libx264 -crf 24 /Users/sanwalyousaf/Desktop/Clarifai_pics_models/videos/Hackday_compressed/20200505_115201_compressed.mp4\n",
      "Done compressing /Users/sanwalyousaf/Downloads/Videos/20200505_115201.mp4\n",
      "\n",
      "\n",
      "ffmpeg -i /Users/sanwalyousaf/Downloads/Videos/20200505_120456.mp4 -vcodec libx264 -crf 24 /Users/sanwalyousaf/Desktop/Clarifai_pics_models/videos/Hackday_compressed/20200505_120456_compressed.mp4\n",
      "Done compressing /Users/sanwalyousaf/Downloads/Videos/20200505_120456.mp4\n",
      "\n",
      "\n",
      "ffmpeg -i /Users/sanwalyousaf/Downloads/Videos/20200505_114903.mp4 -vcodec libx264 -crf 24 /Users/sanwalyousaf/Desktop/Clarifai_pics_models/videos/Hackday_compressed/20200505_114903_compressed.mp4\n",
      "Done compressing /Users/sanwalyousaf/Downloads/Videos/20200505_114903.mp4\n",
      "\n",
      "\n",
      "ffmpeg -i /Users/sanwalyousaf/Downloads/Videos/20200505_121638.mp4 -vcodec libx264 -crf 24 /Users/sanwalyousaf/Desktop/Clarifai_pics_models/videos/Hackday_compressed/20200505_121638_compressed.mp4\n",
      "Done compressing /Users/sanwalyousaf/Downloads/Videos/20200505_121638.mp4\n",
      "\n",
      "\n",
      "ffmpeg -i /Users/sanwalyousaf/Downloads/Videos/20200505_120519.mp4 -vcodec libx264 -crf 24 /Users/sanwalyousaf/Desktop/Clarifai_pics_models/videos/Hackday_compressed/20200505_120519_compressed.mp4\n",
      "Done compressing /Users/sanwalyousaf/Downloads/Videos/20200505_120519.mp4\n",
      "\n",
      "\n",
      "ffmpeg -i /Users/sanwalyousaf/Downloads/Videos/20200505_115004.mp4 -vcodec libx264 -crf 24 /Users/sanwalyousaf/Desktop/Clarifai_pics_models/videos/Hackday_compressed/20200505_115004_compressed.mp4\n",
      "Done compressing /Users/sanwalyousaf/Downloads/Videos/20200505_115004.mp4\n",
      "\n",
      "\n",
      "ffmpeg -i /Users/sanwalyousaf/Downloads/Videos/20200505_121014.mp4 -vcodec libx264 -crf 24 /Users/sanwalyousaf/Desktop/Clarifai_pics_models/videos/Hackday_compressed/20200505_121014_compressed.mp4\n",
      "Done compressing /Users/sanwalyousaf/Downloads/Videos/20200505_121014.mp4\n",
      "\n",
      "\n",
      "ffmpeg -i /Users/sanwalyousaf/Downloads/Videos/20200505_114937.mp4 -vcodec libx264 -crf 24 /Users/sanwalyousaf/Desktop/Clarifai_pics_models/videos/Hackday_compressed/20200505_114937_compressed.mp4\n",
      "Done compressing /Users/sanwalyousaf/Downloads/Videos/20200505_114937.mp4\n",
      "\n",
      "\n",
      "ffmpeg -i /Users/sanwalyousaf/Downloads/Videos/20200505_121037.mp4 -vcodec libx264 -crf 24 /Users/sanwalyousaf/Desktop/Clarifai_pics_models/videos/Hackday_compressed/20200505_121037_compressed.mp4\n",
      "Done compressing /Users/sanwalyousaf/Downloads/Videos/20200505_121037.mp4\n",
      "\n",
      "\n",
      "ffmpeg -i /Users/sanwalyousaf/Downloads/Videos/20200505_114852.mp4 -vcodec libx264 -crf 24 /Users/sanwalyousaf/Desktop/Clarifai_pics_models/videos/Hackday_compressed/20200505_114852_compressed.mp4\n",
      "Done compressing /Users/sanwalyousaf/Downloads/Videos/20200505_114852.mp4\n",
      "\n",
      "\n",
      "ffmpeg -i /Users/sanwalyousaf/Downloads/Videos/20200505_120539.mp4 -vcodec libx264 -crf 24 /Users/sanwalyousaf/Desktop/Clarifai_pics_models/videos/Hackday_compressed/20200505_120539_compressed.mp4\n",
      "Done compressing /Users/sanwalyousaf/Downloads/Videos/20200505_120539.mp4\n",
      "\n",
      "\n",
      "ffmpeg -i /Users/sanwalyousaf/Downloads/Videos/20200505_120748.mp4 -vcodec libx264 -crf 24 /Users/sanwalyousaf/Desktop/Clarifai_pics_models/videos/Hackday_compressed/20200505_120748_compressed.mp4\n",
      "Done compressing /Users/sanwalyousaf/Downloads/Videos/20200505_120748.mp4\n",
      "\n",
      "\n",
      "ffmpeg -i /Users/sanwalyousaf/Downloads/Videos/20200505_115130.mp4 -vcodec libx264 -crf 24 /Users/sanwalyousaf/Desktop/Clarifai_pics_models/videos/Hackday_compressed/20200505_115130_compressed.mp4\n",
      "Done compressing /Users/sanwalyousaf/Downloads/Videos/20200505_115130.mp4\n",
      "\n",
      "\n",
      "ffmpeg -i /Users/sanwalyousaf/Downloads/Videos/20200505_120411.mp4 -vcodec libx264 -crf 24 /Users/sanwalyousaf/Desktop/Clarifai_pics_models/videos/Hackday_compressed/20200505_120411_compressed.mp4\n",
      "Done compressing /Users/sanwalyousaf/Downloads/Videos/20200505_120411.mp4\n",
      "\n",
      "\n",
      "ffmpeg -i /Users/sanwalyousaf/Downloads/Videos/20200505_120758.mp4 -vcodec libx264 -crf 24 /Users/sanwalyousaf/Desktop/Clarifai_pics_models/videos/Hackday_compressed/20200505_120758_compressed.mp4\n",
      "Done compressing /Users/sanwalyousaf/Downloads/Videos/20200505_120758.mp4\n",
      "\n",
      "\n",
      "ffmpeg -i /Users/sanwalyousaf/Downloads/Videos/20200505_115046.mp4 -vcodec libx264 -crf 24 /Users/sanwalyousaf/Desktop/Clarifai_pics_models/videos/Hackday_compressed/20200505_115046_compressed.mp4\n",
      "Done compressing /Users/sanwalyousaf/Downloads/Videos/20200505_115046.mp4\n",
      "\n",
      "\n"
     ]
    }
   ],
   "source": [
    "original_files = []\n",
    "compressed_files = []\n",
    "\n",
    "\n",
    "for f in files :\n",
    "    if not f.startswith('.'):\n",
    "        input_name = f.split('/')[-1].split('.')[0]\n",
    "        output_name = input_name +  '_compressed.mp4'\n",
    "        outfile = save_dir + output_name \n",
    "#         print('Input Name: ', input_name,'\\n', 'Input Directory: ', main_dir,'\\n')\n",
    "#         print(\"Output Name: \", output_name,'\\n', 'Output Directory: ', outfile, '\\n')\n",
    "\n",
    "        input_params = {f:None}\n",
    "        output_params = {outfile:'-vcodec libx264 -crf 24'}\n",
    "        ff = ffmpy.FFmpeg(inputs = input_params, outputs = output_params)\n",
    "        print(ff.cmd)\n",
    "        ff.run()\n",
    "        \n",
    "        original_files.append(f)\n",
    "        compressed_files.append(outfile)\n",
    "        \n",
    "        print(\"Done compressing %s\" %f)\n",
    "        print('\\n')\n",
    "        \n"
   ]
  },
  {
   "cell_type": "code",
   "execution_count": null,
   "metadata": {},
   "outputs": [],
   "source": []
  },
  {
   "cell_type": "code",
   "execution_count": null,
   "metadata": {},
   "outputs": [],
   "source": []
  },
  {
   "cell_type": "code",
   "execution_count": null,
   "metadata": {},
   "outputs": [],
   "source": []
  },
  {
   "cell_type": "code",
   "execution_count": null,
   "metadata": {},
   "outputs": [],
   "source": []
  },
  {
   "cell_type": "code",
   "execution_count": null,
   "metadata": {},
   "outputs": [],
   "source": []
  },
  {
   "cell_type": "code",
   "execution_count": null,
   "metadata": {},
   "outputs": [],
   "source": []
  },
  {
   "cell_type": "code",
   "execution_count": null,
   "metadata": {},
   "outputs": [],
   "source": []
  }
 ],
 "metadata": {
  "kernelspec": {
   "display_name": "Python 3",
   "language": "python",
   "name": "python3"
  },
  "language_info": {
   "codemirror_mode": {
    "name": "ipython",
    "version": 3
   },
   "file_extension": ".py",
   "mimetype": "text/x-python",
   "name": "python",
   "nbconvert_exporter": "python",
   "pygments_lexer": "ipython3",
   "version": "3.7.7"
  }
 },
 "nbformat": 4,
 "nbformat_minor": 4
}
